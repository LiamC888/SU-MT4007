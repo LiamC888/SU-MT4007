{
 "cells": [
  {
   "cell_type": "markdown",
   "id": "2cb18c23-efcd-4966-b128-8e7f13e3a5c3",
   "metadata": {},
   "source": [
    "### Homework 1\n",
    "\n",
    "My name is Liam and I'm 20 years old. I moved to Stockholm from Norrköping last summer to get a bachelor degree in mathematical statistics and data science, and is currently in my second year. Most of my experience with data science is some programming courses I've had earlier in my program (learning python and different algorithms) as well as a summer course in java. I have otherwise no experience with the subject. "
   ]
  }
 ],
 "metadata": {
  "kernelspec": {
   "display_name": "Python 3 (ipykernel)",
   "language": "python",
   "name": "python3"
  },
  "language_info": {
   "codemirror_mode": {
    "name": "ipython",
    "version": 3
   },
   "file_extension": ".py",
   "mimetype": "text/x-python",
   "name": "python",
   "nbconvert_exporter": "python",
   "pygments_lexer": "ipython3",
   "version": "3.11.5"
  }
 },
 "nbformat": 4,
 "nbformat_minor": 5
}
