{
 "cells": [
  {
   "cell_type": "markdown",
   "id": "53d0c805-d035-4a1a-8fcb-541b5bc56074",
   "metadata": {
    "tags": []
   },
   "source": [
    "### Apartment prices\n",
    "\n",
    "We start by collecting the data about appartement prices in Ekhagen from the file \"Booli_sold.csv\" and storing it as the dataframe \"df1\".  "
   ]
  },
  {
   "cell_type": "code",
   "execution_count": 9,
   "id": "1e954c71-0b35-4c8c-9d21-e8d4c464f6e5",
   "metadata": {
    "tags": []
   },
   "outputs": [],
   "source": [
    "import pandas as pd\n",
    "\n",
    "df1 = pd.read_csv(\"Booli_sold.csv\")"
   ]
  },
  {
   "cell_type": "markdown",
   "id": "4cb25add-8543-4895-b86f-59d1661833fd",
   "metadata": {},
   "source": [
    "We want to add a new column \"ppsqm\" (price per squaremeter) into the dataframe df1, so we create a list containing the price per squaremeter for each appartement and add it into df1 as column 10, right after the column 'soldPrice'. "
   ]
  },
  {
   "cell_type": "code",
   "execution_count": 10,
   "id": "aff839ef-8f4c-415c-9bf7-0b167458d8d1",
   "metadata": {
    "tags": []
   },
   "outputs": [
    {
     "data": {
      "text/html": [
       "<div>\n",
       "<style scoped>\n",
       "    .dataframe tbody tr th:only-of-type {\n",
       "        vertical-align: middle;\n",
       "    }\n",
       "\n",
       "    .dataframe tbody tr th {\n",
       "        vertical-align: top;\n",
       "    }\n",
       "\n",
       "    .dataframe thead th {\n",
       "        text-align: right;\n",
       "    }\n",
       "</style>\n",
       "<table border=\"1\" class=\"dataframe\">\n",
       "  <thead>\n",
       "    <tr style=\"text-align: right;\">\n",
       "      <th></th>\n",
       "      <th>listPrice</th>\n",
       "      <th>rent</th>\n",
       "      <th>livingArea</th>\n",
       "      <th>rooms</th>\n",
       "      <th>published</th>\n",
       "      <th>constructionYear</th>\n",
       "      <th>objectType</th>\n",
       "      <th>booliId</th>\n",
       "      <th>soldDate</th>\n",
       "      <th>soldPrice</th>\n",
       "      <th>ppsqm</th>\n",
       "    </tr>\n",
       "  </thead>\n",
       "  <tbody>\n",
       "    <tr>\n",
       "      <th>0</th>\n",
       "      <td>3995000</td>\n",
       "      <td>4467.0</td>\n",
       "      <td>73.0</td>\n",
       "      <td>3.0</td>\n",
       "      <td>2018-10-15 13:33:18</td>\n",
       "      <td>1935.0</td>\n",
       "      <td>Lägenhet</td>\n",
       "      <td>3263989</td>\n",
       "      <td>2018-11-08</td>\n",
       "      <td>3820000</td>\n",
       "      <td>52328.767123</td>\n",
       "    </tr>\n",
       "    <tr>\n",
       "      <th>1</th>\n",
       "      <td>1995000</td>\n",
       "      <td>1773.0</td>\n",
       "      <td>36.0</td>\n",
       "      <td>1.0</td>\n",
       "      <td>2018-10-05 14:29:28</td>\n",
       "      <td>1968.0</td>\n",
       "      <td>Lägenhet</td>\n",
       "      <td>3256231</td>\n",
       "      <td>2018-10-19</td>\n",
       "      <td>2355000</td>\n",
       "      <td>65416.666667</td>\n",
       "    </tr>\n",
       "    <tr>\n",
       "      <th>2</th>\n",
       "      <td>5100000</td>\n",
       "      <td>3839.0</td>\n",
       "      <td>81.0</td>\n",
       "      <td>3.0</td>\n",
       "      <td>2018-09-11 13:44:43</td>\n",
       "      <td>1936.0</td>\n",
       "      <td>Lägenhet</td>\n",
       "      <td>3236660</td>\n",
       "      <td>2018-09-27</td>\n",
       "      <td>6110000</td>\n",
       "      <td>75432.098765</td>\n",
       "    </tr>\n",
       "    <tr>\n",
       "      <th>3</th>\n",
       "      <td>5495000</td>\n",
       "      <td>4483.0</td>\n",
       "      <td>107.0</td>\n",
       "      <td>4.0</td>\n",
       "      <td>2018-08-25 02:56:56</td>\n",
       "      <td>1936.0</td>\n",
       "      <td>Lägenhet</td>\n",
       "      <td>3224374</td>\n",
       "      <td>2018-09-06</td>\n",
       "      <td>8050000</td>\n",
       "      <td>75233.644860</td>\n",
       "    </tr>\n",
       "    <tr>\n",
       "      <th>4</th>\n",
       "      <td>1995000</td>\n",
       "      <td>1696.0</td>\n",
       "      <td>29.0</td>\n",
       "      <td>1.0</td>\n",
       "      <td>2018-06-15 17:16:19</td>\n",
       "      <td>1936.0</td>\n",
       "      <td>Lägenhet</td>\n",
       "      <td>3185496</td>\n",
       "      <td>2018-06-18</td>\n",
       "      <td>2400000</td>\n",
       "      <td>82758.620690</td>\n",
       "    </tr>\n",
       "  </tbody>\n",
       "</table>\n",
       "</div>"
      ],
      "text/plain": [
       "   listPrice    rent  livingArea  rooms            published  \\\n",
       "0    3995000  4467.0        73.0    3.0  2018-10-15 13:33:18   \n",
       "1    1995000  1773.0        36.0    1.0  2018-10-05 14:29:28   \n",
       "2    5100000  3839.0        81.0    3.0  2018-09-11 13:44:43   \n",
       "3    5495000  4483.0       107.0    4.0  2018-08-25 02:56:56   \n",
       "4    1995000  1696.0        29.0    1.0  2018-06-15 17:16:19   \n",
       "\n",
       "   constructionYear objectType  booliId    soldDate  soldPrice         ppsqm  \n",
       "0            1935.0   Lägenhet  3263989  2018-11-08    3820000  52328.767123  \n",
       "1            1968.0   Lägenhet  3256231  2018-10-19    2355000  65416.666667  \n",
       "2            1936.0   Lägenhet  3236660  2018-09-27    6110000  75432.098765  \n",
       "3            1936.0   Lägenhet  3224374  2018-09-06    8050000  75233.644860  \n",
       "4            1936.0   Lägenhet  3185496  2018-06-18    2400000  82758.620690  "
      ]
     },
     "execution_count": 10,
     "metadata": {},
     "output_type": "execute_result"
    }
   ],
   "source": [
    "ppsqm=[]\n",
    "for index in df1.index:\n",
    "    ppsqm.append(df1.loc[index]['soldPrice']/df1.loc[index]['livingArea'])\n",
    "\n",
    "df1.insert(10,'ppsqm',ppsqm,True)\n",
    "\n",
    "df1.iloc[:,range(11)].head()"
   ]
  },
  {
   "cell_type": "markdown",
   "id": "acbb1ddc-5bd7-424a-aef7-44afcd07a120",
   "metadata": {},
   "source": [
    "To find out which appartements that have the highest price per squaremeter so will we sort the rows in df1 in respect to highest ppsqm to lowest ppsqm. "
   ]
  },
  {
   "cell_type": "code",
   "execution_count": 11,
   "id": "5f021d46-a9c0-4727-8797-16b845ad1d87",
   "metadata": {
    "tags": []
   },
   "outputs": [
    {
     "data": {
      "text/html": [
       "<div>\n",
       "<style scoped>\n",
       "    .dataframe tbody tr th:only-of-type {\n",
       "        vertical-align: middle;\n",
       "    }\n",
       "\n",
       "    .dataframe tbody tr th {\n",
       "        vertical-align: top;\n",
       "    }\n",
       "\n",
       "    .dataframe thead th {\n",
       "        text-align: right;\n",
       "    }\n",
       "</style>\n",
       "<table border=\"1\" class=\"dataframe\">\n",
       "  <thead>\n",
       "    <tr style=\"text-align: right;\">\n",
       "      <th></th>\n",
       "      <th>listPrice</th>\n",
       "      <th>rent</th>\n",
       "      <th>livingArea</th>\n",
       "      <th>rooms</th>\n",
       "      <th>published</th>\n",
       "      <th>constructionYear</th>\n",
       "      <th>objectType</th>\n",
       "      <th>booliId</th>\n",
       "      <th>soldDate</th>\n",
       "      <th>soldPrice</th>\n",
       "      <th>ppsqm</th>\n",
       "    </tr>\n",
       "  </thead>\n",
       "  <tbody>\n",
       "    <tr>\n",
       "      <th>67</th>\n",
       "      <td>1595000</td>\n",
       "      <td>1464.0</td>\n",
       "      <td>24.0</td>\n",
       "      <td>1.0</td>\n",
       "      <td>2016-01-07 14:51:06</td>\n",
       "      <td>1935.0</td>\n",
       "      <td>Lägenhet</td>\n",
       "      <td>2018259</td>\n",
       "      <td>2016-01-21</td>\n",
       "      <td>2500000</td>\n",
       "      <td>104166.666667</td>\n",
       "    </tr>\n",
       "    <tr>\n",
       "      <th>50</th>\n",
       "      <td>1890000</td>\n",
       "      <td>1464.0</td>\n",
       "      <td>24.0</td>\n",
       "      <td>1.0</td>\n",
       "      <td>2016-06-11 08:55:51</td>\n",
       "      <td>1935.0</td>\n",
       "      <td>Lägenhet</td>\n",
       "      <td>2125576</td>\n",
       "      <td>2016-06-21</td>\n",
       "      <td>2450000</td>\n",
       "      <td>102083.333333</td>\n",
       "    </tr>\n",
       "    <tr>\n",
       "      <th>54</th>\n",
       "      <td>1795000</td>\n",
       "      <td>1374.0</td>\n",
       "      <td>23.0</td>\n",
       "      <td>1.0</td>\n",
       "      <td>2016-04-15 19:10:49</td>\n",
       "      <td>1935.0</td>\n",
       "      <td>Lägenhet</td>\n",
       "      <td>2078171</td>\n",
       "      <td>2016-04-28</td>\n",
       "      <td>2300000</td>\n",
       "      <td>100000.000000</td>\n",
       "    </tr>\n",
       "    <tr>\n",
       "      <th>34</th>\n",
       "      <td>1750000</td>\n",
       "      <td>1144.0</td>\n",
       "      <td>25.0</td>\n",
       "      <td>1.0</td>\n",
       "      <td>2017-05-18 16:20:57</td>\n",
       "      <td>1936.0</td>\n",
       "      <td>Lägenhet</td>\n",
       "      <td>2330886</td>\n",
       "      <td>2017-06-01</td>\n",
       "      <td>2210000</td>\n",
       "      <td>88400.000000</td>\n",
       "    </tr>\n",
       "    <tr>\n",
       "      <th>55</th>\n",
       "      <td>1895000</td>\n",
       "      <td>1522.0</td>\n",
       "      <td>26.9</td>\n",
       "      <td>1.0</td>\n",
       "      <td>2016-04-01 22:56:37</td>\n",
       "      <td>1968.0</td>\n",
       "      <td>Lägenhet</td>\n",
       "      <td>2067384</td>\n",
       "      <td>2016-04-19</td>\n",
       "      <td>2300000</td>\n",
       "      <td>85501.858736</td>\n",
       "    </tr>\n",
       "  </tbody>\n",
       "</table>\n",
       "</div>"
      ],
      "text/plain": [
       "    listPrice    rent  livingArea  rooms            published  \\\n",
       "67    1595000  1464.0        24.0    1.0  2016-01-07 14:51:06   \n",
       "50    1890000  1464.0        24.0    1.0  2016-06-11 08:55:51   \n",
       "54    1795000  1374.0        23.0    1.0  2016-04-15 19:10:49   \n",
       "34    1750000  1144.0        25.0    1.0  2017-05-18 16:20:57   \n",
       "55    1895000  1522.0        26.9    1.0  2016-04-01 22:56:37   \n",
       "\n",
       "    constructionYear objectType  booliId    soldDate  soldPrice          ppsqm  \n",
       "67            1935.0   Lägenhet  2018259  2016-01-21    2500000  104166.666667  \n",
       "50            1935.0   Lägenhet  2125576  2016-06-21    2450000  102083.333333  \n",
       "54            1935.0   Lägenhet  2078171  2016-04-28    2300000  100000.000000  \n",
       "34            1936.0   Lägenhet  2330886  2017-06-01    2210000   88400.000000  \n",
       "55            1968.0   Lägenhet  2067384  2016-04-19    2300000   85501.858736  "
      ]
     },
     "execution_count": 11,
     "metadata": {},
     "output_type": "execute_result"
    }
   ],
   "source": [
    "df=df1.sort_values(by = 'ppsqm', ascending=False)\n",
    "df.iloc[:,range(11)].head()"
   ]
  },
  {
   "cell_type": "markdown",
   "id": "d4313878-c4ce-4fee-87bc-fffe9dcbdc52",
   "metadata": {
    "tags": []
   },
   "source": [
    "We can in the table above see the five appartements with the highest price per squaremeter. \n",
    "\n",
    "We now want to find out what the average price per squaremeter is for the appartements. We start by adding all the values in the column 'soldPrice' to get the total price of all the appartements, and then we do the same for all the values in the column 'livingArea'. We then divide the sum of 'soldPrice' with the sum of 'livingArea' to get the average ppsqm:"
   ]
  },
  {
   "cell_type": "code",
   "execution_count": 12,
   "id": "b17ab940-1dd5-4ce5-a1a4-55b3f4aca9be",
   "metadata": {
    "tags": []
   },
   "outputs": [
    {
     "name": "stdout",
     "output_type": "stream",
     "text": [
      "56844.561210885426\n"
     ]
    }
   ],
   "source": [
    "tot_price = df1['soldPrice'].sum()\n",
    "\n",
    "tot_area = df1['livingArea'].sum()\n",
    "\n",
    "print(tot_price/tot_area)"
   ]
  },
  {
   "cell_type": "markdown",
   "id": "b7c40cf6-d7e6-4cf7-9177-fa82b0eb1248",
   "metadata": {},
   "source": [
    "So we get that the average ppsqm is approximately 56800. "
   ]
  },
  {
   "cell_type": "markdown",
   "id": "4deaa9d4-7e64-4994-861b-7d95a4edfb40",
   "metadata": {},
   "source": [
    "I think that a very interesting aspect of the data we have viewed in df1 is the top five appartements when it comes to highest ppsqm. We can see that all these appartement also have a very small 'livingArea', which of course is somewhat expected since 'livingArea' and 'ppsqm' are inversely proportional, but what I think is especially interesting is how there are **only** appartements with small 'livingArea' in the top five. This indicates that 'livingArea' and 'soldPrice' don't grow in a proportional manner in respect to eachother, which I think would be an interesting thing to explore further. "
   ]
  },
  {
   "cell_type": "markdown",
   "id": "9b70f1c6-e648-452e-a868-6446a191066d",
   "metadata": {},
   "source": [
    "### The Swedish Election of 2018\n",
    "\n",
    "We start by collecting the data about the swedish election of 2018 from the file \"2018_R_per_kommun.csv\" and storing it as the dataframe \"df2\""
   ]
  },
  {
   "cell_type": "code",
   "execution_count": 13,
   "id": "396b408c-a8d9-4adc-a23b-ff7d02bd68ea",
   "metadata": {
    "tags": []
   },
   "outputs": [],
   "source": [
    "df2 = pd.read_csv(\"2018_R_per_kommun.csv\", sep = \";\", decimal = \",\")"
   ]
  },
  {
   "cell_type": "markdown",
   "id": "4db66e74-25d4-4d7a-b328-3a2e18cd73d3",
   "metadata": {},
   "source": [
    "We now calculate the number of legitimate votes in Stockholm from the election. "
   ]
  },
  {
   "cell_type": "code",
   "execution_count": 14,
   "id": "965bc3ee-60a3-4600-8858-01e41f4a0b75",
   "metadata": {
    "tags": []
   },
   "outputs": [
    {
     "name": "stdout",
     "output_type": "stream",
     "text": [
      "1426237\n"
     ]
    }
   ],
   "source": [
    "sthlm_votes=0\n",
    "for index in df2.index:\n",
    "    if df2.loc[index]['LÄNSNAMN'] == \"Stockholms län\":\n",
    "        sthlm_votes += df2.loc[index]['RÖSTER GILTIGA']\n",
    "print(sthlm_votes)"
   ]
  },
  {
   "cell_type": "markdown",
   "id": "032d30ce-f98b-4e10-9025-3dce86f05918",
   "metadata": {},
   "source": [
    "We can see that the number of legitimate votes in Stockholm was 1426237. \n",
    "\n",
    "We now want to investigate in which munipality the social democratic party ('S') got the highest voting percentage in the election. "
   ]
  },
  {
   "cell_type": "code",
   "execution_count": 15,
   "id": "2c044f38-ed06-4a83-af65-c76765240e2f",
   "metadata": {
    "tags": []
   },
   "outputs": [
    {
     "name": "stdout",
     "output_type": "stream",
     "text": [
      "Munkfors\n"
     ]
    }
   ],
   "source": [
    "highest_s = \"\"\n",
    "current_highest = 0\n",
    "for index in df2.index:\n",
    "    if df2.loc[index]['S'] > current_highest:\n",
    "        current_highest = df2.loc[index]['S']\n",
    "        highest_s =  df2.loc[index]['KOMMUNNAMN']\n",
    "print(highest_s)"
   ]
  },
  {
   "cell_type": "markdown",
   "id": "25fbddf6-3f54-43e7-8aa4-ca190121ce9f",
   "metadata": {},
   "source": [
    "We can see that the munipality Munkfors had the highest percentage of votes on the social democratic party. \n",
    "\n",
    "We now want to investigate the munipalities with highest voting participation ('VALDELTAGANDE')."
   ]
  },
  {
   "cell_type": "code",
   "execution_count": 16,
   "id": "470cd9f9-2f3e-42be-9b2a-572b0cd8a809",
   "metadata": {
    "tags": []
   },
   "outputs": [
    {
     "data": {
      "text/html": [
       "<div>\n",
       "<style scoped>\n",
       "    .dataframe tbody tr th:only-of-type {\n",
       "        vertical-align: middle;\n",
       "    }\n",
       "\n",
       "    .dataframe tbody tr th {\n",
       "        vertical-align: top;\n",
       "    }\n",
       "\n",
       "    .dataframe thead th {\n",
       "        text-align: right;\n",
       "    }\n",
       "</style>\n",
       "<table border=\"1\" class=\"dataframe\">\n",
       "  <thead>\n",
       "    <tr style=\"text-align: right;\">\n",
       "      <th></th>\n",
       "      <th>LÄNSKOD</th>\n",
       "      <th>KOMMUNKOD</th>\n",
       "      <th>LÄNSNAMN</th>\n",
       "      <th>KOMMUNNAMN</th>\n",
       "      <th>M</th>\n",
       "      <th>C</th>\n",
       "      <th>L</th>\n",
       "      <th>KD</th>\n",
       "      <th>S</th>\n",
       "      <th>V</th>\n",
       "      <th>...</th>\n",
       "      <th>TRP</th>\n",
       "      <th>VL-S</th>\n",
       "      <th>ÖVR</th>\n",
       "      <th>OGEJ</th>\n",
       "      <th>BLANK</th>\n",
       "      <th>OG</th>\n",
       "      <th>RÖSTER GILTIGA</th>\n",
       "      <th>RÖSTANDE</th>\n",
       "      <th>RÖSTBERÄTTIGADE</th>\n",
       "      <th>VALDELTAGANDE</th>\n",
       "    </tr>\n",
       "  </thead>\n",
       "  <tbody>\n",
       "    <tr>\n",
       "      <th>103</th>\n",
       "      <td>12</td>\n",
       "      <td>62</td>\n",
       "      <td>Skåne län</td>\n",
       "      <td>Lomma</td>\n",
       "      <td>33.16</td>\n",
       "      <td>9.33</td>\n",
       "      <td>9.97</td>\n",
       "      <td>6.38</td>\n",
       "      <td>16.69</td>\n",
       "      <td>2.54</td>\n",
       "      <td>...</td>\n",
       "      <td>NaN</td>\n",
       "      <td>NaN</td>\n",
       "      <td>NaN</td>\n",
       "      <td>NaN</td>\n",
       "      <td>0.51</td>\n",
       "      <td>0.04</td>\n",
       "      <td>16401</td>\n",
       "      <td>16492</td>\n",
       "      <td>17570</td>\n",
       "      <td>93.86</td>\n",
       "    </tr>\n",
       "    <tr>\n",
       "      <th>59</th>\n",
       "      <td>6</td>\n",
       "      <td>43</td>\n",
       "      <td>Jönköpings län</td>\n",
       "      <td>Habo</td>\n",
       "      <td>19.73</td>\n",
       "      <td>8.77</td>\n",
       "      <td>4.22</td>\n",
       "      <td>15.13</td>\n",
       "      <td>23.74</td>\n",
       "      <td>3.91</td>\n",
       "      <td>...</td>\n",
       "      <td>NaN</td>\n",
       "      <td>NaN</td>\n",
       "      <td>NaN</td>\n",
       "      <td>0.06</td>\n",
       "      <td>0.88</td>\n",
       "      <td>0.06</td>\n",
       "      <td>7746</td>\n",
       "      <td>7825</td>\n",
       "      <td>8382</td>\n",
       "      <td>93.35</td>\n",
       "    </tr>\n",
       "    <tr>\n",
       "      <th>98</th>\n",
       "      <td>12</td>\n",
       "      <td>33</td>\n",
       "      <td>Skåne län</td>\n",
       "      <td>Vellinge</td>\n",
       "      <td>39.56</td>\n",
       "      <td>7.24</td>\n",
       "      <td>7.26</td>\n",
       "      <td>7.45</td>\n",
       "      <td>10.58</td>\n",
       "      <td>1.31</td>\n",
       "      <td>...</td>\n",
       "      <td>0.0</td>\n",
       "      <td>NaN</td>\n",
       "      <td>NaN</td>\n",
       "      <td>0.02</td>\n",
       "      <td>0.40</td>\n",
       "      <td>0.04</td>\n",
       "      <td>25245</td>\n",
       "      <td>25360</td>\n",
       "      <td>27231</td>\n",
       "      <td>93.13</td>\n",
       "    </tr>\n",
       "  </tbody>\n",
       "</table>\n",
       "<p>3 rows × 45 columns</p>\n",
       "</div>"
      ],
      "text/plain": [
       "     LÄNSKOD  KOMMUNKOD        LÄNSNAMN KOMMUNNAMN      M     C     L     KD  \\\n",
       "103       12         62       Skåne län      Lomma  33.16  9.33  9.97   6.38   \n",
       "59         6         43  Jönköpings län       Habo  19.73  8.77  4.22  15.13   \n",
       "98        12         33       Skåne län   Vellinge  39.56  7.24  7.26   7.45   \n",
       "\n",
       "         S     V  ...  TRP  VL-S  ÖVR  OGEJ  BLANK    OG  RÖSTER GILTIGA  \\\n",
       "103  16.69  2.54  ...  NaN   NaN  NaN   NaN   0.51  0.04           16401   \n",
       "59   23.74  3.91  ...  NaN   NaN  NaN  0.06   0.88  0.06            7746   \n",
       "98   10.58  1.31  ...  0.0   NaN  NaN  0.02   0.40  0.04           25245   \n",
       "\n",
       "     RÖSTANDE  RÖSTBERÄTTIGADE  VALDELTAGANDE  \n",
       "103     16492            17570          93.86  \n",
       "59       7825             8382          93.35  \n",
       "98      25360            27231          93.13  \n",
       "\n",
       "[3 rows x 45 columns]"
      ]
     },
     "execution_count": 16,
     "metadata": {},
     "output_type": "execute_result"
    }
   ],
   "source": [
    "df=df2.sort_values(by='VALDELTAGANDE', ascending = False)\n",
    "df.head(3)"
   ]
  },
  {
   "cell_type": "markdown",
   "id": "1e4dca59-3994-42d5-ad21-739c9bafe9c4",
   "metadata": {},
   "source": [
    "We can in the table above see that the three munipalities with the highest voting participation was Lomma, Habo and Vellinge. "
   ]
  },
  {
   "cell_type": "markdown",
   "id": "ef194f10-3801-47c1-b0f4-9b780ee0ebf4",
   "metadata": {},
   "source": [
    "### Plot of strokecases\n",
    "\n",
    "We start by loading the file \"stroke-data.csv\" as the dataframe \"df3\"."
   ]
  },
  {
   "cell_type": "code",
   "execution_count": 17,
   "id": "57dc25a4-d333-4a9f-b5d7-f93d176c59c3",
   "metadata": {
    "tags": []
   },
   "outputs": [],
   "source": [
    "df3 = pd.read_csv(\"stroke-data.csv\")"
   ]
  },
  {
   "cell_type": "markdown",
   "id": "fe0484f3-16ad-437a-85de-b5c61828563f",
   "metadata": {},
   "source": [
    "We want to check if there is any correlation between age and getting a stroke and we will do this through a plot. We first want to check so that the file \"stroke-data.csv\" contains a fairly even distribution of ages, so that the results won't be misleading. "
   ]
  },
  {
   "cell_type": "code",
   "execution_count": 18,
   "id": "75c25a5e-476f-470d-b736-aa6432acc39e",
   "metadata": {
    "tags": []
   },
   "outputs": [
    {
     "data": {
      "text/plain": [
       "array([[<Axes: title={'center': 'age'}>]], dtype=object)"
      ]
     },
     "execution_count": 18,
     "metadata": {},
     "output_type": "execute_result"
    },
    {
     "data": {
      "image/png": "[encoded data removed]",
      "text/plain": [
       "<Figure size 500x500 with 1 Axes>"
      ]
     },
     "metadata": {},
     "output_type": "display_data"
    }
   ],
   "source": [
    "df5=df3.loc[:,['age']]\n",
    "df5.hist(figsize=(5,5))"
   ]
  },
  {
   "cell_type": "markdown",
   "id": "6a76edc5-240b-41c2-a8d5-c0fed276e1ed",
   "metadata": {},
   "source": [
    "We can see that the ages are fairly even distributed and we can also compare this histogram, with the histogram of the ages of the patients that have had a stroke, to be sures that the fact that the ages is not completely even distributed have an effect un the result. We create a new similar plot but only for the patients that have had a stroke. "
   ]
  },
  {
   "cell_type": "code",
   "execution_count": 19,
   "id": "d93cf7f1-9b50-4f50-b91b-dc08aa79f769",
   "metadata": {
    "tags": []
   },
   "outputs": [
    {
     "data": {
      "text/plain": [
       "array([[<Axes: title={'center': 'age'}>]], dtype=object)"
      ]
     },
     "execution_count": 19,
     "metadata": {},
     "output_type": "execute_result"
    },
    {
     "data": {
      "image/png": "[encoded data removed]",
      "text/plain": [
       "<Figure size 500x500 with 1 Axes>"
      ]
     },
     "metadata": {},
     "output_type": "display_data"
    }
   ],
   "source": [
    "df=df3.sort_values(by='stroke', ascending=False)\n",
    "\n",
    "loop=True \n",
    "last_stroke=0\n",
    "row=0\n",
    "while (loop):\n",
    "    if df.loc[row]['stroke'] == 0:\n",
    "        last_stroke=row\n",
    "        loop=False\n",
    "    row+=1\n",
    "\n",
    "df4=df.loc[:,['age']]\n",
    "\n",
    "df4.head(last_stroke).hist(figsize=(5,5))"
   ]
  },
  {
   "cell_type": "markdown",
   "id": "cf3966af-af21-41cb-9e91-ca7ff6415477",
   "metadata": {},
   "source": [
    "We can see that even though we have approximately the same amount of people in each agegroup, so are almost all strokecases recorded for people over 50, where people over 70 are very overrepresented. So there definitely seems to be a correlation between age and having a stroke. "
   ]
  }
 ],
 "metadata": {
  "kernelspec": {
   "display_name": "Python 3 (ipykernel)",
   "language": "python",
   "name": "python3"
  },
  "language_info": {
   "codemirror_mode": {
    "name": "ipython",
    "version": 3
   },
   "file_extension": ".py",
   "mimetype": "text/x-python",
   "name": "python",
   "nbconvert_exporter": "python",
   "pygments_lexer": "ipython3",
   "version": "3.11.5"
  }
 },
 "nbformat": 4,
 "nbformat_minor": 5
}
